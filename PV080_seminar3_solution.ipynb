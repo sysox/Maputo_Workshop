{
 "cells": [
  {
   "cell_type": "markdown",
   "id": "4784a3a4",
   "metadata": {
    "id": "t1ppBGhN3AjM"
   },
   "source": [
    "# Seminar 03: Mapping, Vernam cipher, Stream Ciphers"
   ]
  },
  {
   "cell_type": "markdown",
   "id": "ffb9a83b",
   "metadata": {},
   "source": [
    "## <span style=\"color:red\">Caesar-like ciphers</span>"
   ]
  },
  {
   "cell_type": "markdown",
   "id": "9fd6b2fb",
   "metadata": {},
   "source": [
    "### Mapping and permutations\n",
    "\n",
    "First, we introduce a function that will allow us to construct mapping from inputs to outputs (and vice versa) in various ways. The constructed mappings will take a form of dictionary, where keys will correspond to inputs and values to outputs. You don't need to spend time analysing this function, we will show you examples of how it can be used."
   ]
  },
  {
   "cell_type": "code",
   "execution_count": null,
   "id": "0963f8bb",
   "metadata": {},
   "outputs": [],
   "source": [
    "def construct_mappings(inputs, perm=None, key=None, outputs=None):\n",
    "    l = len(inputs)\n",
    "    if outputs == None:\n",
    "        outputs = [item for item in inputs]\n",
    "    if perm != None:\n",
    "        tmp = [item for item in outputs] #comment\n",
    "        for idx in range(l):\n",
    "            idx_mapped = perm(idx, key)\n",
    "            outputs[idx] = tmp[idx_mapped]\n",
    "    mapping = dict(zip(inputs, outputs))\n",
    "    inverse = dict(zip(outputs, inputs))\n",
    "    return mapping, inverse"
   ]
  },
  {
   "cell_type": "markdown",
   "id": "9e524e41",
   "metadata": {},
   "source": [
    "In our context, permutation is a mapping in which the input set is equal to the output set. It is also one-to-one, meaning that every input symbol is mapped to different output symbol. \n",
    "\n",
    "Below is a simple example of permutation which 'shifts' outputs by one."
   ]
  },
  {
   "cell_type": "code",
   "execution_count": null,
   "id": "dce9415c",
   "metadata": {},
   "outputs": [],
   "source": [
    "def shift_by_one(idx, key=None):\n",
    "    return (idx + 1) % 3 # depends on size of the permutation"
   ]
  },
  {
   "cell_type": "markdown",
   "id": "06028c6a",
   "metadata": {},
   "source": [
    "**Task 1**: Print out the `mapping` and  `inverse` dictionaries to see that they are one-to-one."
   ]
  },
  {
   "cell_type": "code",
   "execution_count": null,
   "id": "27da2775",
   "metadata": {},
   "outputs": [],
   "source": [
    "mapping, inverse = construct_mappings(inputs=['A', 'B', 'C'], perm = shift_by_one)\n",
    "# print both mappings\n",
    "print(mapping)\n",
    "print(inverse)"
   ]
  },
  {
   "cell_type": "markdown",
   "id": "a58b9de0",
   "metadata": {},
   "source": [
    "**Task 2**: Verify that `mapping` and `inverse` are inverse (opposite) operations. Apply one of them, then the other one and you should see the original input."
   ]
  },
  {
   "cell_type": "code",
   "execution_count": null,
   "id": "766a4175",
   "metadata": {},
   "outputs": [],
   "source": [
    "# here test composition of mapping and inverse\n",
    "print(inverse[mapping['A']]) # composition inverse(mapping('A'))\n",
    "print(mapping[inverse['C']]) # composition mapping(inverse('C'))"
   ]
  },
  {
   "cell_type": "markdown",
   "id": "0a903055",
   "metadata": {},
   "source": [
    "**Task 3:** Define `shift_by_two` and create mapping equivalent to `'A': 'C', 'C': 'E'...` for whole English alphabet."
   ]
  },
  {
   "cell_type": "code",
   "execution_count": null,
   "id": "1c09a1d9",
   "metadata": {},
   "outputs": [],
   "source": [
    "def shift_by_two(idx, key=None):\n",
    "    return (idx + 2) % 26\n",
    "\n",
    "mapping, inverse = construct_mappings(inputs='ABCDEFGHIJKLMNOPQRSTUVWXYZ', perm = shift_by_two) "
   ]
  },
  {
   "cell_type": "markdown",
   "id": "53b48565",
   "metadata": {},
   "source": [
    "### Original Caesar cipher\n",
    "\n",
    "The original Caesar cipher is actually very similar to the mapping (`mapping`) we just defined. The only difference is that it shifts input symbols by 3 positions instead of 2. We will also extend the input alphabet by \" \"(space) and \".\" (dot), this will come in handy for encrypting natural text."
   ]
  },
  {
   "cell_type": "code",
   "execution_count": null,
   "id": "18eb5f84",
   "metadata": {},
   "outputs": [],
   "source": [
    "def caesar_perm(idx, key = None):\n",
    "    return (idx + 3) % 28 # 26 letters and two extra symbols\n",
    "caesar_mapping, caesar_inverse_mapping = construct_mappings(\"ABCDEFGHIJKLMNOPQRSTUVWXYZ .\", caesar_perm)"
   ]
  },
  {
   "cell_type": "markdown",
   "id": "574fe58f",
   "metadata": {},
   "source": [
    "**Task 4**: The function `txt_process_with_mapping` allows us to apply the mapping to messages instead of just a single symbol. Use it to decrypt the following ciphertext.  "
   ]
  },
  {
   "cell_type": "code",
   "execution_count": null,
   "id": "8d608cf4",
   "metadata": {},
   "outputs": [],
   "source": [
    "def txt_process_with_mapping(message, character_mapping):\n",
    "    res_list = [character_mapping[char] for char in message] \n",
    "    res_text = \"\".join(res_list)\n",
    "    return res_text\n",
    "\n",
    "ciphertext = \"KHOORBZRUOG\"\n",
    "print(txt_process_with_mapping(ciphertext, caesar_inverse_mapping))"
   ]
  },
  {
   "cell_type": "markdown",
   "id": "085a119d",
   "metadata": {},
   "source": [
    "**Task 5**: Use `txt_process` and appropriate mapping to encrypt plaintext `HELLO WORLD`."
   ]
  },
  {
   "cell_type": "code",
   "execution_count": null,
   "id": "77d9c247",
   "metadata": {},
   "outputs": [],
   "source": [
    "txt_process_with_mapping('HELLO WORLD', caesar_mapping)"
   ]
  },
  {
   "cell_type": "markdown",
   "id": "d5b80776",
   "metadata": {},
   "source": [
    "### Ciphers with keys\n",
    "\n",
    "The problem of the original Caesar cipher is that relies on security-by-obscurity - if our adversary (an enemy) learns how the cipher works, he will be able to decrypt any captured ciphertext. To counter this problem, ciphers use keys - additional piece of information that is required to be able to decrypt messages."
   ]
  },
  {
   "cell_type": "markdown",
   "id": "d8be3614",
   "metadata": {},
   "source": [
    "### Generalized Caesar cipher\n",
    "\n",
    "We can construct a cipher with keys from the original Caesar cipher. In the generalized Caesar cipher, key will correspond to amount of positions by which the inputs are shifted. \n",
    "\n",
    "First, we define the permutation function used by the cipher. "
   ]
  },
  {
   "cell_type": "code",
   "execution_count": null,
   "id": "0244c780",
   "metadata": {},
   "outputs": [],
   "source": [
    "def generalized_caesar_perm(idx, key):\n",
    "    return (idx + key) % 28"
   ]
  },
  {
   "cell_type": "markdown",
   "id": "53661818",
   "metadata": {},
   "source": [
    "To create an instance of the cipher (mappings), we need to choose a key."
   ]
  },
  {
   "cell_type": "code",
   "execution_count": null,
   "id": "b58549ee",
   "metadata": {},
   "outputs": [],
   "source": [
    "key = 9\n",
    "encryption_mapping, decryption_mapping = construct_mappings(\"ABCDEFGHIJKLMNOPQRSTUVWXYZ .\", generalized_caesar_perm, key)"
   ]
  },
  {
   "cell_type": "markdown",
   "id": "c80c1bb7",
   "metadata": {},
   "source": [
    "We encrypt and decrypt in the same way as using the cipher without a key."
   ]
  },
  {
   "cell_type": "code",
   "execution_count": null,
   "id": "f6f265e1",
   "metadata": {},
   "outputs": [],
   "source": [
    "print(txt_process_with_mapping(\"HELLO\", encryption_mapping))\n",
    "print(txt_process_with_mapping(\"QNUUX\", decryption_mapping))"
   ]
  },
  {
   "cell_type": "markdown",
   "id": "dcbd5cc6",
   "metadata": {},
   "source": [
    "### Attacking the cipher\n",
    "\n",
    "Perhaps as you already have known, even generalized Caesar cipher is vulnerable to various attacks, which we will explore in next few tasks."
   ]
  },
  {
   "cell_type": "markdown",
   "id": "0eeed428",
   "metadata": {},
   "source": [
    "**Task 5:** We have captured an enemy ciphertext and thanks to information from our spies, we know that the corresponding plaintext was one of the two options written below. Can you figure out the original plaintext? What is the key? Verify your findings."
   ]
  },
  {
   "cell_type": "code",
   "execution_count": null,
   "id": "73c4276b",
   "metadata": {},
   "outputs": [],
   "source": [
    "plaintext1 = 'ATTACK NOW   '\n",
    "plaintext2 = 'DO NOT ATTACK'\n",
    "\n",
    "ciphertext = 'VMMVXDTGHPTTT'\n",
    "\n",
    "key = 21 # PUT YOUR KEY GUESS HERE\n",
    "encryption_mapping, decryption_mapping = construct_mappings(\"ABCDEFGHIJKLMNOPQRSTUVWXYZ .\", generalized_caesar_perm, key)\n",
    "print(txt_process_with_mapping(ciphertext, decryption_mapping))"
   ]
  },
  {
   "cell_type": "markdown",
   "id": "ec9ba81e",
   "metadata": {},
   "source": [
    "**Task 6:** Our enemy has improved its operations and we only have limited intel from the spies about the next ciphertext. However, they have discovered that the enemy now terminates its messages with a commonly used symbol. Can you find the key and decrypt the following ciphertext?"
   ]
  },
  {
   "cell_type": "code",
   "execution_count": null,
   "id": "cfbc118e",
   "metadata": {},
   "outputs": [],
   "source": [
    "ciphertext = 'KBBKMUIKBIXYYXJ'\n",
    "\n",
    "key = 10 # PUT YOUR KEY GUESS HERE\n",
    "encryption_mapping, decryption_mapping = construct_mappings(\"ABCDEFGHIJKLMNOPQRSTUVWXYZ .\", generalized_caesar_perm, key)\n",
    "print(txt_process_with_mapping(\"KBBKMUIKBIXYYXJ\", decryption_mapping))"
   ]
  },
  {
   "cell_type": "markdown",
   "id": "24b63aee",
   "metadata": {},
   "source": [
    "**Task 7:** We no longer have any information about content or format of the messages of the enemy. Can you still find the original message?\n",
    "\n",
    "Hint: What is the simplest method?"
   ]
  },
  {
   "cell_type": "code",
   "execution_count": null,
   "id": "0cc62fa8",
   "metadata": {},
   "outputs": [],
   "source": [
    "ciphertext = 'GQXXKP ZQKGUDTKI EBKNBEDQR BOQKMDDMOW'\n",
    "\n",
    "#implement your approach here\n",
    "for key in range(28):\n",
    "    encryption_mapping, decryption_mapping = construct_mappings(\"ABCDEFGHIJKLMNOPQRSTUVWXYZ .\", generalized_caesar_perm, key)\n",
    "    print(f\"Key: {key}, Plaintext: {txt_process_with_mapping(ciphertext, decryption_mapping)}\")"
   ]
  },
  {
   "cell_type": "code",
   "execution_count": null,
   "id": "a9c4905b",
   "metadata": {},
   "outputs": [],
   "source": [
    "key = 12 # PUT YOUR KEY GUESS HERE\n",
    "encryption_mapping, decryption_mapping = construct_mappings(\"ABCDEFGHIJKLMNOPQRSTUVWXYZ .\", generalized_caesar_perm, key)\n",
    "print(txt_process_with_mapping(ciphertext, decryption_mapping))"
   ]
  },
  {
   "cell_type": "markdown",
   "id": "1346bd01",
   "metadata": {},
   "source": [
    "### Statistical analysis\n",
    "\n",
    "While bruteforce attack can be used to break the generalized Caesar cipher, there are more clever approaches that can be used as well. One is concerned with frequency analysis of letters in written English. Observe frequency of symbols in a randomly selected text below."
   ]
  },
  {
   "cell_type": "code",
   "execution_count": null,
   "id": "1dd6138d",
   "metadata": {},
   "outputs": [],
   "source": [
    "from collections import Counter\n",
    "import pandas as pd\n",
    "\n",
    "text = \"ONE MORNING WHEN GREGOR SAMSA WOKE FROM TROUBLED DREAMS HE FOUND HIMSELF TRANSFORMED IN HIS BED INTO A HORRIBLE VERMIN. HE LAY ON HIS ARMOURLIKE BACK AND IF HE LIFTED HIS HEAD A LITTLE HE COULD SEE HIS BROWN BELLY SLIGHTLY DOMED AND DIVIDED BY ARCHES INTO STIFF SECTIONS. THE BEDDING WAS HARDLY ABLE TO COVER IT AND SEEMED READY TO SLIDE OFF ANY MOMENT. HIS MANY LEGS PITIFULLY THIN COMPARED WITH THE SIZE OF THE REST OF HIM WAVED ABOUT HELPLESSLY AS HE LOOKED. WHATS HAPPENED TO ME HE THOUGHT. IT WASNT A DREAM. HIS ROOM A PROPER HUMAN ROOM ALTHOUGH A LITTLE TOO SMALL LAY PEACEFULLY BETWEEN ITS FOUR FAMILIAR WALLS. A COLLECTION OF TEXTILE SAMPLES LAY SPREAD OUT ON THE TABLE  SAMSA WAS A TRAVELLING SALESMAN  AND ABOVE IT THERE HUNG A PICTURE THAT HE HAD RECENTLY CUT OUT OF AN ILLUSTRATED MAGAZINE AND HOUSED IN A NICE GILDED FRAME. IT SHOWED A LADY FITTED OUT WITH A FUR HAT AND FUR BOA WHO SAT UPRIGHT RAISING A HEAVY FUR MUFF THAT COVERED THE WHOLE OF HER LOWER ARM TOWARDS THE VIEWER. GREGOR THEN TURNED TO LOOK OUT THE WINDOW AT THE DULL WEATHER. DROPS OF RAIN COULD BE HEARD HITTING THE PANE WHICH MADE HIM FEEL QUITE SAD.\"\n",
    "\n",
    "df = pd.DataFrame.from_dict(Counter(text), orient='index', columns=['LETTER FREQUENCY'])\n",
    "df.sort_index().plot.bar()"
   ]
  },
  {
   "cell_type": "markdown",
   "id": "73ffabad",
   "metadata": {},
   "source": [
    "**Task 8:** Now, try to decrypt the following text by observing frequencies of letters in the ciphertexts."
   ]
  },
  {
   "cell_type": "code",
   "execution_count": null,
   "id": "db21aa32",
   "metadata": {},
   "outputs": [],
   "source": [
    "ciphertext = \"PWCGIJWA.GQNGQG TMMXGIGTQ..TMGJQ.GTWVOMZGIVLGNWZOM.GITTG.PQ GVWV MV MGPMG.PWAOP.GJA.G.PI.GCI G WUM.PQVOGPMGCI GAVIJTMG.WGLWGJMKIA MGPMGCI GA MLG.WG TMMXQVOGWVGPQ GZQOP.GIVLGQVGPQ GXZM MV.G .I.MGKWATLV.GOM.GQV.WG.PI.GXW Q.QWVHGPWCMBMZGPIZLGPMG.PZMCGPQU MTNGWV.WGPQ GZQOP.GPMGITCIE GZWTTMLGJIKSG.WGCPMZMGPMGCI HGPMGUA .GPIBMG.ZQMLGQ.GIGPAVLZMLG.QUM G PA.GPQ GMEM G WG.PI.GPMGCWATLV.GPIBMG.WGTWWSGI.G.PMGNTWAVLMZQVOGTMO GIVLGWVTEG .WXXMLGCPMVGPMGJMOIVG.WGNMMTGIGUQTLGLATTGXIQVG.PMZMG.PI.GPMGPILGVMBMZGNMT.GJMNWZMHGWPGOWLGPMG.PWAOP.GCPI.GIG .ZMVAWA GKIZMMZGQ.GQ G.PI.GQBMGKPW MVG.ZIBMTTQVOGLIEGQVGIVLGLIEGWA.HGLWQVOGJA QVM  GTQSMG.PQ G.ISM GUAKPGUWZMGMNNWZ.G.PIVGLWQVOGEWAZGWCVGJA QVM  GI.GPWUMGIVLGWVG.WXGWNG.PI.G.PMZM G.PMGKAZ MGWNG.ZIBMTTQVOGCWZZQM GIJWA.GUISQVOG.ZIQVGKWVVMK.QWVFGJILGIVLGQZZMOATIZGNWWLGKWV.IK.GCQ.PGLQNNMZMV.GXMWXTMGITTG.PMG.QUMG WG.PI.GEWAGKIVGVMBMZGOM.G.WGSVWCGIVEWVMGWZGJMKWUMGNZQMVLTEGCQ.PG.PMUHGQ.GKIVGITTGOWG.WGPMTTGPMGNMT.GIG TQOP.GQ.KPGAXGWVGPQ GJMTTEGXA PMLGPQU MTNG TWCTEGAXGWVGDQ GJIKSG.WCIZL G.PMGPMILJWIZLG WG.PI.GPMGKWATLGTQN.GPQ GPMILGJM..MZGNWAVLGCPMZMG.PMGQ.KPGCI GIVLG ICG.PI.GQ.GCI GKWBMZMLGCQ.PGTW. GWNGTQ..TMGCPQ.MG XW. GCPQKPGPMGLQLV.GSVWCGCPI.G.WGUISMGWNGIVLGCPMVGPMG.ZQMLG.WGNMMTG.PMGXTIKMGCQ.PGWVMGWNGPQ GTMO GPMGLZMCGQ.GYAQKSTEGJIKSGJMKIA MGI G WWVGI GPMG.WAKPMLGQ.GPMGCI GWBMZKWUMGJEGIGKWTLG PALLMZHGPMG TQLGJIKSGQV.WGPQ GNWZUMZGXW Q.QWVH\"\n",
    "\n",
    "df = pd.DataFrame.from_dict(Counter(ciphertext), orient='index', columns=['LETTER FREQUENCY'])\n",
    "df.sort_index().plot.bar()"
   ]
  },
  {
   "cell_type": "code",
   "execution_count": null,
   "id": "0ea4551f",
   "metadata": {},
   "outputs": [],
   "source": [
    "key = 8 # PUT YOUR KEY GUESS HERE\n",
    "encryption_mapping, decryption_mapping = construct_mappings(\"ABCDEFGHIJKLMNOPQRSTUVWXYZ .\", generalized_caesar_perm, key)\n",
    "print(txt_process_with_mapping(ciphertext, decryption_mapping))"
   ]
  },
  {
   "cell_type": "markdown",
   "id": "e45111cc",
   "metadata": {},
   "source": [
    "**BONUS TASK:** Try to automatize the bruteforce attack using the frequency analysis - the function will return one or more most likely plaintexts corresponding to the provided ciphertext with the used key.\n",
    "\n",
    "We provide you with two ciphertexts to test your method.\n",
    "\n",
    "Hint: You can take advantage of the previously used `Counter` class. Also beware of the fact that in usual encodings, the symbol ' ' does not follow the letter 'Z', you can take advantage of the function `fixed_ord`."
   ]
  },
  {
   "cell_type": "code",
   "execution_count": null,
   "id": "fb100c0f",
   "metadata": {},
   "outputs": [],
   "source": [
    "ciphertext1 = \"IGCWVLMZNATG MZMVQ.EGPI G.ISMVGXW  M  QWVGWNGUEGMV.QZMG WATGTQSMG.PM MG CMM.GUWZVQVO GWNG XZQVOGCPQKPGQGMVRWEGCQ.PGUEGCPWTMGPMIZ.HGQGIUGITWVMGIVLGNMMTG.PMGKPIZUGWNGMDQ .MVKMGQVG.PQ G XW.GCPQKPGCI GKZMI.MLGNWZG.PMGJTQ  GWNG WAT GTQSMGUQVMHGQGIUG WGPIXXEGUEGLMIZGNZQMVLG WGIJ WZJMLGQVG.PMGMDYAQ Q.MG MV MGWNGUMZMG.ZIVYAQTGMDQ .MVKMG.PI.GQGVMOTMK.GUEG.ITMV. HGQG PWATLGJMGQVKIXIJTMGWNGLZICQVOGIG QVOTMG .ZWSMGI.G.PMGXZM MV.GUWUMV.GIVLGEM.GQGNMMTG.PI.GQGVMBMZGCI GIGOZMI.MZGIZ.Q .G.PIVGVWCHGCPMVGCPQTMG.PMGTWBMTEGBITTMEG.MMU GCQ.PGBIXWAZGIZWAVLGUMGIVLG.PMGUMZQLQIVG AVG .ZQSM G.PMGAXXMZG AZNIKMGWNG.PMGQUXMVM.ZIJTMGNWTQIOMGWNGUEG.ZMM GIVLGJA.GIGNMCG .ZIEGOTMIU G .MITGQV.WG.PMGQVVMZG IVK.AIZEH\"\n",
    "\n",
    "ciphertext2 = \"MBMZEGTM..MZGCPMZMBMZG.PMZMGQ GVMML GMVKZEX.QWVG.WGJMG MKAZMH\"\n",
    "\n",
    "# FOR REFERENCE\n",
    "key1 = 4\n",
    "key2 = 17\n",
    "\n",
    "def fixed_ord(char):\n",
    "    if char == ' ':\n",
    "        return ord('Z') + 1\n",
    "    elif char == '.':\n",
    "        return ord('Z') + 2\n",
    "    else:\n",
    "        return ord(char)\n",
    "\n",
    "def find_original_text(ciphertext):\n",
    "    most_common_symbol = Counter(ciphertext).most_common(1)[0][0]\n",
    "    for index, symbol in enumerate([' ', 'E', 'T']):\n",
    "        key = (fixed_ord(most_common_symbol) - fixed_ord(symbol)) % 28\n",
    "        print(f\"POTENTIAL KEY {index + 1}: {key} WITH CORRESPONDING PLAINTEXT:\")\n",
    "        _, decryption_mapping = construct_mappings(\"ABCDEFGHIJKLMNOPQRSTUVWXYZ .\", generalized_caesar_perm, key)\n",
    "        print(txt_process_with_mapping(ciphertext, decryption_mapping))\n",
    "        print()\n",
    "\n",
    "print(\"CIPHERTEXT 1:\")\n",
    "find_original_text(ciphertext1)\n",
    "print(\"CIPHERTEXT 2:\")\n",
    "find_original_text(ciphertext2)"
   ]
  },
  {
   "cell_type": "markdown",
   "id": "1a63a196",
   "metadata": {},
   "source": [
    "### Caesar with keystream\n",
    "The previous attack is based on statistic of letters in CT. The attack is possible since the same mapping is applied to all letters i.e. frequencies do not change (they are only shifted). In order to prevent the previous attack we can change the mapping for each letter by changing the corresponding key.  Hence we need to define stream of keys (=keystream), one key for each letter.   "
   ]
  },
  {
   "cell_type": "code",
   "execution_count": null,
   "id": "356528bd",
   "metadata": {},
   "outputs": [],
   "source": [
    "def generalized_caesar_perm(idx, key):\n",
    "    return (idx + key) % 28\n",
    "\n",
    "def txt_process_with_changing_mapping(message, keystream, perm):\n",
    "    ct_list = []\n",
    "    for i in range(len(message)):\n",
    "        char = message[i]\n",
    "        key = keystream[i]\n",
    "        mapping, inverse = construct_mappings(\"ABCDEFGHIJKLMNOPQRSTUVWXYZ .\", perm=perm, key=key)\n",
    "        ct_list.append(mapping[char])\n",
    "    ct = \"\".join(ct_list)\n",
    "    return ct"
   ]
  },
  {
   "cell_type": "markdown",
   "id": "3ac0cc5e",
   "metadata": {},
   "source": [
    "Execute the following cell. In the next task you will to obtain same result using `txt_process_with_changing_mapping` to see the difference with Task 10 where the keystream consist of different values. "
   ]
  },
  {
   "cell_type": "code",
   "execution_count": null,
   "id": "39b6c6e4",
   "metadata": {},
   "outputs": [],
   "source": [
    "key = 21 \n",
    "PT = \"A WONDERFUL SERENITY HAS TAKEN POSSESSION OF MY ENTIRE SOUL LIKE THESE SWEET MORNINGS OF SPRING WHICH I ENJOY WITH MY WHOLE HEART. I AM ALONE AND FEEL THE CHARM OF EXISTENCE IN THIS SPOT WHICH WAS CREATED FOR THE BLISS OF SOULS LIKE MINE. I AM SO HAPPY MY DEAR FRIEND SO ABSORBED IN THE EXQUISITE SENSE OF MERE TRANQUIL EXISTENCE THAT I NEGLECT MY TALENTS. I SHOULD BE INCAPABLE OF DRAWING A SINGLE STROKE AT THE PRESENT MOMENT AND YET I FEEL THAT I NEVER WAS A GREATER ARTIST THAN NOW. WHEN WHILE THE LOVELY VALLEY TEEMS WITH VAPOUR AROUND ME AND THE MERIDIAN SUN STRIKES THE UPPER SURFACE OF THE IMPENETRABLE FOLIAGE OF MY TREES AND BUT A FEW STRAY GLEAMS STEAL INTO THE INNER SANCTUARY.\"\n",
    "encryption_mapping, decryption_mapping = construct_mappings(\"ABCDEFGHIJKLMNOPQRSTUVWXYZ .\", generalized_caesar_perm, key)\n",
    "CT_mapping = txt_process_with_mapping(PT, encryption_mapping)"
   ]
  },
  {
   "cell_type": "markdown",
   "id": "8dca9aff",
   "metadata": {},
   "source": [
    "**Task 9:** Define only the keystream so the resulted ciphertext will be the same `VKWBMKVKRTIEVBGMZQM`as one obtained in the cell above where only one encryption mapping defined by `key = 21` was used for all the letters."
   ]
  },
  {
   "cell_type": "code",
   "execution_count": null,
   "id": "00900838",
   "metadata": {},
   "outputs": [],
   "source": [
    "keystream = [21]*len(PT) \n",
    "CT_changing_mapping = txt_process_with_changing_mapping(PT, keystream, perm=generalized_caesar_perm)\n",
    "if CT_mapping == CT_changing_mapping: \n",
    "    print('Correctly defined keystream')\n",
    "else: \n",
    "    print('Incorrectly defined keystream')"
   ]
  },
  {
   "cell_type": "markdown",
   "id": "89a7cb78",
   "metadata": {},
   "source": [
    "**Task 10:** Randomly generated keystream using the `secrets.token_bytes` was used to to encrypt the same message `msg`. Execute 2 times following cell to see that frequencies of letters in CT are changing and we can not distinguish letters based on their frequency."
   ]
  },
  {
   "cell_type": "code",
   "execution_count": null,
   "id": "096d9978",
   "metadata": {},
   "outputs": [],
   "source": [
    "import secrets\n",
    "keystream = list(secrets.token_bytes(len(PT)))\n",
    "CT = txt_process_with_changing_mapping(PT, keystream, perm=generalized_caesar_perm)\n",
    "df = pd.DataFrame.from_dict(Counter(CT), orient='index', columns=['LETTER FREQUENCY'])\n",
    "df.sort_index().plot.bar()\n",
    "\n",
    "keystream = list(secrets.token_bytes(len(PT)))\n",
    "CT = txt_process_with_changing_mapping(PT, keystream, perm=generalized_caesar_perm)\n",
    "df = pd.DataFrame.from_dict(Counter(CT), orient='index', columns=['LETTER FREQUENCY'])\n",
    "df.sort_index().plot.bar()"
   ]
  },
  {
   "cell_type": "markdown",
   "id": "a83def86",
   "metadata": {},
   "source": [
    "## <span style=\"color:red\">Vernam cipher</span>"
   ]
  },
  {
   "cell_type": "markdown",
   "id": "c5d0139d",
   "metadata": {},
   "source": [
    "### Vernam vs Caesar keystream\n",
    "Vernam cipher in principle works similarly to caesar with the keystream above. The difference is that it uses bits 0,1 instead of alphabet A...Z. The following example shows processing the message `msg`.   "
   ]
  },
  {
   "cell_type": "code",
   "execution_count": null,
   "id": "76e77176",
   "metadata": {},
   "outputs": [],
   "source": [
    "def vernam_perm(idx, key):\n",
    "    return (idx + key) % 2\n",
    "\n",
    "def bits_process_with_changing_mapping(message, keystream, perm):\n",
    "    ct_list = []\n",
    "    for i in range(len(message)):\n",
    "        bit = message[i]\n",
    "        key = keystream[i]\n",
    "        mapping, inverse = construct_mappings([0, 1], perm=perm, key=key)\n",
    "        ct_list.append(mapping[bit])\n",
    "    return ct_list\n",
    "\n",
    "msg = [0, 1, 1, 1, 0, 0, 0, 1]\n",
    "keystream = [0, 1, 0, 0, 1, 0, 1, 0]\n",
    "\n",
    "print(bits_process_with_changing_mapping(msg, keystream, perm=vernam_perm))"
   ]
  },
  {
   "cell_type": "markdown",
   "id": "86d9b073",
   "metadata": {},
   "source": [
    "**Task 11**: Verify that encryption process is equivalent to XOR of msg bits and keystream bits. Define two integers `msg_int,keystream_int` that correspond to bits of message `msg` and keystream `keystream`. You shoudl see that result of XOR (operator `^`) of `msg_int,keystream_int` correspond to result above."
   ]
  },
  {
   "cell_type": "code",
   "execution_count": null,
   "id": "d6bbb822",
   "metadata": {},
   "outputs": [],
   "source": [
    "def byte_to_bits(byte_val):\n",
    "    return list(reversed([byte_val >> i & 1 for i in range(8)]))\n",
    "\n",
    "msg_int =  113 # replace by appropriate integer\n",
    "keystream_int = 74 # replace by appropriate integer\n",
    "byte_to_bits(msg_int ^ keystream_int)"
   ]
  },
  {
   "cell_type": "markdown",
   "id": "056e174a",
   "metadata": {
    "id": "evjrhTc_3AkC"
   },
   "source": [
    "### Vernam cipher\n",
    "Now we will describe vernam cipher that operates efficiently above bytes. In Python, we will use the `bytes` type for that."
   ]
  },
  {
   "cell_type": "markdown",
   "id": "80cbfc0f",
   "metadata": {
    "id": "lQKjngw-3AkC"
   },
   "source": [
    "**Task 12**: What is the result of bitwise XOR: $01110001_2 \\oplus 01001010_2$?\n",
    "\n",
    "Set the two variables `a`, `b` accordingly and compare your answer to the question with `c`. Beware, `bytes.fromhex()` expects a hexadecimal number."
   ]
  },
  {
   "cell_type": "code",
   "execution_count": null,
   "id": "3ba55678",
   "metadata": {
    "id": "NSmiUKOh3AkD",
    "outputId": "30811287-e553-4fd2-bb3b-937e729cbbe4"
   },
   "outputs": [],
   "source": [
    "def XOR(array1: bytes, array2: bytes) -> bytes:\n",
    "    l = min(len(array1), len(array2))\n",
    "    xored = bytes(a ^ b for (a, b) in zip(array1, array2))\n",
    "    if len(array1) > l:\n",
    "        xored += array1[l:]\n",
    "    else:\n",
    "        xored += array2[l:]\n",
    "    return xored\n",
    "\n",
    "a = bytes.fromhex('71')\n",
    "b = bytes.fromhex('4A')\n",
    "c = XOR(a, b)\n",
    "c.hex()"
   ]
  },
  {
   "cell_type": "markdown",
   "id": "232465a0",
   "metadata": {
    "id": "0dloUDUE3AkD"
   },
   "source": [
    "**Task 13**: Using `c` and `a` compute `b_computed` and compare with the original `b`. Use the `XOR` function.\n",
    "\n",
    "Hint: From `c`, `a` with $c = a \\oplus b$ can be `b` computed using $\\oplus$."
   ]
  },
  {
   "cell_type": "code",
   "execution_count": null,
   "id": "34c137e3",
   "metadata": {
    "id": "n2oa_zNJ3AkD",
    "outputId": "cba3f297-c878-47dd-8b45-5aa4c4cf2203"
   },
   "outputs": [],
   "source": [
    "b_computed = XOR(c, a)\n",
    "print(b_computed == b) #verification"
   ]
  },
  {
   "cell_type": "markdown",
   "id": "c9532264",
   "metadata": {},
   "source": [
    "To generate random binary data (e.g. keys), we will be using the `secrets` library. "
   ]
  },
  {
   "cell_type": "code",
   "execution_count": null,
   "id": "651a71af",
   "metadata": {},
   "outputs": [],
   "source": [
    "import secrets\n",
    "\n",
    "key = secrets.token_bytes(32)\n",
    "print(key)"
   ]
  },
  {
   "cell_type": "markdown",
   "id": "1db5acf5",
   "metadata": {
    "id": "DiL_5XLt3AkE"
   },
   "source": [
    "**Task 14**: Fix the returned value of the `Vernam` function."
   ]
  },
  {
   "cell_type": "code",
   "execution_count": null,
   "id": "7bf71e14",
   "metadata": {
    "id": "0PlYs0Ms3AkE",
    "outputId": "0f802a2c-5979-4bb4-fcd4-b2caf774c423"
   },
   "outputs": [],
   "source": [
    "def Vernam(text: bytes, key: bytes) -> bytes:\n",
    "    assert len(text) <= len(key), f'The key is shorter than the encrypted/decrypted text.'\n",
    "    return bytes(XOR(text, key))"
   ]
  },
  {
   "cell_type": "markdown",
   "id": "72ad800f",
   "metadata": {},
   "source": [
    "Check that the decrypted plaintext corresponds to the original message."
   ]
  },
  {
   "cell_type": "code",
   "execution_count": null,
   "id": "82d70c24",
   "metadata": {},
   "outputs": [],
   "source": [
    "msg = b'At the first God made the heaven and the earth. And the earth was waste and without form and it was dark on the face of the deep and the Spirit of God was moving on the face of the waters.'\n",
    "key = secrets.token_bytes(len(msg))\n",
    "ct = Vernam(msg, key)\n",
    "pt = Vernam(ct, key)\n",
    "print(pt)"
   ]
  },
  {
   "cell_type": "markdown",
   "id": "eb721d79",
   "metadata": {},
   "source": [
    "## <span style=\"color:red\">Stream ciphers</span>"
   ]
  },
  {
   "cell_type": "markdown",
   "id": "5faf06b2",
   "metadata": {
    "id": "WACofkHM3AkG"
   },
   "source": [
    "### Chacha20\n",
    "Modern stream ciphers like Chacha20 encrypt plaintext by XORing it with a \"keystream\" generated from a key and a nonce (random bitstring). Importantly, the key is of fixed size, usually much shorter than the plaintext."
   ]
  },
  {
   "cell_type": "code",
   "execution_count": null,
   "id": "a3e569c1",
   "metadata": {
    "id": "oTG9MmSd3AkH"
   },
   "outputs": [],
   "source": [
    "from cryptography.hazmat.primitives.ciphers import Cipher, algorithms\n",
    "\n",
    "def chacha20_encrypt(plaintext: bytes, key: bytes, nonce: bytes) -> bytes:\n",
    "    algorithm = algorithms.ChaCha20(key, nonce)\n",
    "    encryptor = Cipher(algorithm, mode=None).encryptor()\n",
    "    ct = encryptor.update(plaintext) + encryptor.finalize()\n",
    "    return ct\n",
    "\n",
    "def chacha20_decrypt(ciphertext: bytes, key: bytes, nonce: bytes) -> bytes:\n",
    "    algorithm = algorithms.ChaCha20(key, nonce)\n",
    "    decryptor = Cipher(algorithm, mode=None).decryptor()\n",
    "    pt = decryptor.update(ciphertext) + decryptor.finalize()\n",
    "    return pt\n",
    "\n",
    "msg = b'Far far away, behind the word mountains, far from the countries.'"
   ]
  },
  {
   "cell_type": "markdown",
   "id": "21efb6a4",
   "metadata": {
    "id": "y4k7Z5Aw3AkI"
   },
   "source": [
    "**Task 15**: Replace zeros with correct key/nonce sizes to encrypt the message `msg` using Chacha20. See [chacha20 documentation](https://cryptography.io/en/latest/hazmat/primitives/symmetric-encryption/#cryptography.hazmat.primitives.ciphers.algorithms.ChaCha20)."
   ]
  },
  {
   "cell_type": "code",
   "execution_count": null,
   "id": "7efb9d6f",
   "metadata": {
    "id": "x6n8oV3_3AkI",
    "outputId": "0bc8a5e9-db14-43c3-aaa0-7744b1553f68"
   },
   "outputs": [],
   "source": [
    "key = secrets.token_bytes(32)\n",
    "nonce = secrets.token_bytes(16)\n",
    "ct = chacha20_encrypt(msg, key, nonce)\n",
    "pt = chacha20_decrypt(ct, key, nonce)"
   ]
  },
  {
   "cell_type": "markdown",
   "id": "c69d42ab",
   "metadata": {
    "id": "EJCvmGQT3AkJ"
   },
   "source": [
    "**Task 16**: Change the plaintext `pt` so that by encrypting it, you obtain the first 64 bytes of the keystream. Remember how the ciphertext is computed from the plaintext and the keystream."
   ]
  },
  {
   "cell_type": "code",
   "execution_count": null,
   "id": "084e1ad9",
   "metadata": {
    "id": "xX8ck3xf3AkJ",
    "lines_to_next_cell": 2,
    "outputId": "963d19d4-ab4b-4349-cea9-5ccaf33409ea"
   },
   "outputs": [],
   "source": [
    "pt = bytes.fromhex('00'*64) # TODO change the plaintext\n",
    "keystream = chacha20_encrypt(pt, key, nonce)\n",
    "print(keystream)"
   ]
  },
  {
   "cell_type": "markdown",
   "id": "2d5095c7",
   "metadata": {
    "id": "2fJp0rrv3AkK"
   },
   "source": [
    "Verify that the ciphertext `ct` can be obtained directly as a XOR of `msg` and `keystream`."
   ]
  },
  {
   "cell_type": "code",
   "execution_count": null,
   "id": "da57fc26",
   "metadata": {
    "id": "W3sL4UW33AkK",
    "outputId": "e030763b-a898-4d10-e04d-b8a801676c4a"
   },
   "outputs": [],
   "source": [
    "ct2 = XOR(msg, keystream)\n",
    "ct2 == ct"
   ]
  },
  {
   "cell_type": "markdown",
   "id": "38abe4c3",
   "metadata": {
    "id": "88nEqYBX3AkL"
   },
   "source": [
    "**Task 17**: Use two nonces which differ in single bit and compare corresponding keystreams. How much do they differ?"
   ]
  },
  {
   "cell_type": "code",
   "execution_count": null,
   "id": "1bb7ef86",
   "metadata": {
    "id": "cwW86zeJ3AkL",
    "outputId": "47c89254-c597-4bfe-d962-32f10890cd24"
   },
   "outputs": [],
   "source": [
    "pt = bytes.fromhex('00'*10)\n",
    "nonce1 = bytes.fromhex('00'*15+'00') \n",
    "nonce2 = bytes.fromhex('00'*15+'01') # TODO change the nonce\n",
    "keystream1 = chacha20_encrypt(pt, key, nonce1)\n",
    "keystream2 = chacha20_encrypt(pt, key, nonce2)\n",
    "print(keystream1)\n",
    "print(keystream2)"
   ]
  },
  {
   "cell_type": "markdown",
   "id": "95565b04",
   "metadata": {},
   "source": [
    "**Task 4 (BONUS)**: Imagine yourself in the role of an attacker. You managed to discover that `known_ct` is a ciphertext obtained by encrypting `known_pt` using ChaCha20. Then, you intercepted another ciphertext which may have been encrypted using the same key/nonce pair. Can you decrypt it?"
   ]
  },
  {
   "cell_type": "code",
   "execution_count": null,
   "id": "ec6c26b8",
   "metadata": {},
   "outputs": [],
   "source": [
    "known_pt = b'Attack at dawn!'\n",
    "known_ct = b'\\xfdy=\\x98\\x89\\xa7\\xb9Rj>\\xe9?\\x15#\\xb5'\n",
    "\n",
    "intercepted_ct = b'\\xf8h/\\x9c\\x84\\xa8\\xb9Rj>\\xe9+\\x11&\\xb5'"
   ]
  },
  {
   "cell_type": "markdown",
   "id": "ab864466",
   "metadata": {},
   "source": [
    "## <span style=\"color:red\">Bonus: Block ciphers</span>\n",
    "\n",
    "Today, we spoke about various types of ciphers:\n",
    "- first, we discussed the (generalized) **Caesar cipher** that encrypts plaintext consisting of letters by shifting each letter by amount of positions determined by the key. We have shown that this cipher is easy to break.\n",
    "- then we introduced the **Vernam cipher**, which works with bits instead of letters and uses the XOR operation. This cipher is perfectly secure, but suffers from major limitations that make it impractical to use - the key needs to be as long as the plaintext and can only be used once.\n",
    "- finally, we discussed **stream ciphers**, which try to fix problems of Vernam cipher. They use so-called generators, functions which are used to generate keystream from key. This way, we can a have a short key (e.g. 128 bits), from which we can generate keystream of any length, that is used to encrypt the plaintext using the XOR operation. The generators also have second input, initialisation vector, which is used to ensure that the generated keystream is different each time (recall second issue of Vernam cipher).\n",
    "\n",
    "However this is not the only way to design ciphers. It is still possible to create ciphers that use same key repeatedly. These ciphers are called **block ciphers**. Block ciphers require data to be split into **blocks** of same predefined size. Same key is then used to encrypt to every block of the data.\n",
    "\n",
    "So how can block ciphers be secure? The solution is to use more complex encryption function. One concept used by block cipher is **s-box** (substitution box)."
   ]
  },
  {
   "cell_type": "markdown",
   "id": "4aa036c8",
   "metadata": {},
   "source": [
    "## Simple block cipher\n",
    "\n",
    "Let us define a simple block cipher with block size of 3 bits that will use the following sbox:\n",
    "\n",
    "| Input  | 000 | 001 | 010 | 011 | 100 | 101 | 110 | 111 |\n",
    "|--------|-----|-----|-----|-----|-----|-----|-----|-----|\n",
    "| Output | 110 | 101 | 001 | 000 | 011 | 010 | 111 | 100 |\n",
    "\n",
    "The encryption function is defined using XOR and sbox as follows:\n",
    "\n",
    "$E(input) = sbox(input \\oplus key)$\n",
    "\n",
    "And the corresponding decryption function is:\n",
    "\n",
    "$D(input) = inverse\\_sbox(input) \\oplus key$"
   ]
  },
  {
   "cell_type": "code",
   "execution_count": null,
   "id": "fd3fd5ae",
   "metadata": {},
   "outputs": [],
   "source": [
    "inputs = [\n",
    "    \"000\",\n",
    "    \"001\",\n",
    "    \"010\",\n",
    "    \"011\",\n",
    "    \"100\",\n",
    "    \"101\",\n",
    "    \"110\",\n",
    "    \"111\"\n",
    "]\n",
    "sbox_outputs = [\n",
    "    \"110\",\n",
    "    \"101\",\n",
    "    \"001\",\n",
    "    \"000\",\n",
    "    \"011\",\n",
    "    \"010\",\n",
    "    \"111\",\n",
    "    \"100\"\n",
    "]\n",
    "sbox, inverse_sbox = construct_mappings(inputs, outputs=sbox_outputs)\n",
    "\n",
    "def encrypt_block(block, key):\n",
    "    return sbox[f\"{(int(block, 2) ^ int(key, 2)):03b}\"] # sbox(block XOR key)\n",
    "\n",
    "def decrypt_block(block, key):\n",
    "    return f\"{(int(inverse_sbox[block], 2) ^ int(key, 2)):03b}\" # inverse_sbox(block) XOR key\n",
    "\n",
    "def process_with_block_cipher(message, key, cipher_operation):\n",
    "    blocks = [message[i:i+3] for i in range(0, len(message), 3)] # split message into blocks\n",
    "    res_blocks = [cipher_operation(block, key) for block in blocks]\n",
    "    res = \"\".join(res_blocks)\n",
    "    return res\n",
    "\n",
    "plaintext = \"010111001\"\n",
    "ciphertext = process_with_block_cipher(plaintext, \"101\", encrypt_block)\n",
    "decrypted_plaintext = process_with_block_cipher(ciphertext, \"101\", decrypt_block)\n",
    "\n",
    "print(f\"Plaintext: {plaintext}\")\n",
    "print(f\"Ciphertext: {ciphertext}\")\n",
    "print(f\"Decrypted plaintext: {decrypted_plaintext}\")"
   ]
  },
  {
   "cell_type": "markdown",
   "id": "df37cc00",
   "metadata": {},
   "source": [
    "As you might have guessed, this example block cipher is too simple to be secure.\n",
    "\n",
    "Real block ciphers use much more complex functions and more importantly, **larger block size and key size** (e.g. 128 bits).\n",
    "\n",
    "We will discuss them in more detail next seminar."
   ]
  }
 ],
 "metadata": {
  "jupytext": {
   "custom_cell_magics": "kql",
   "formats": "ipynb,py:percent"
  },
  "kernelspec": {
   "display_name": "Python 3 (ipykernel)",
   "language": "python",
   "name": "python3"
  },
  "language_info": {
   "codemirror_mode": {
    "name": "ipython",
    "version": 3
   },
   "file_extension": ".py",
   "mimetype": "text/x-python",
   "name": "python",
   "nbconvert_exporter": "python",
   "pygments_lexer": "ipython3",
   "version": "3.10.12"
  }
 },
 "nbformat": 4,
 "nbformat_minor": 5
}
