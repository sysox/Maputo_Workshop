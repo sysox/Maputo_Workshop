{
 "cells": [
  {
   "cell_type": "markdown",
   "id": "e4b6e072",
   "metadata": {},
   "source": [
    "## <span style=\"color:red\">Learn python first</span>\n",
    "For all tasks, <span style=\"color:red\"> we expect that you know basics of python </span> - if not use some online tutorial to learn basisc. You can find many tutorials [here](https://wiki.python.org/moin/BeginnersGuide/Programmers). For all the tasks you you need to understand and you will use loops(**for, while**), **if-else**, operators(logical - ``and, or``, aritmetic - ``%, **, +=, //, /``, bitwise - ``<<, >>, &, |, ^``), classes (calling own methods, method for initialization ``__init__``), lists (slices) and dictionaries. "
   ]
  },
  {
   "cell_type": "markdown",
   "id": "16b370d4",
   "metadata": {},
   "source": [
    "## Goal\n",
    "The goal of this jupyter notebook is to prepare you for practical exercise. <span style=\"color:red\"> Do not use AI such as chatGPT as the goal is to prepare yourself for practical exercise where AI wont be allowed!</span> During the exercise you will use modules (``cryptography.hazmat, os, random, secrets``) and functions below so they need to be installed (it should be sufficient to install only  ``cryptography.hazmat``). You will execute the cells below to see whether everything work!!! Also we will use specific functions ``SHA256, AES`` from ``hazmat`` package, ``pow`` from ``math`` and ``open`` to read from a file. Python 3.6 or higher should be installed since we will use ``pow`` with negative exponents. "
   ]
  },
  {
   "cell_type": "markdown",
   "id": "f885e5a3",
   "metadata": {},
   "source": [
    "**Task 0:** Execute (Run button or Ctrl + Enter) the following cell. Imports like ``import random`` need to be executed first and after that you can use functions from the packages like ``random.randint.``"
   ]
  },
  {
   "cell_type": "code",
   "execution_count": 1,
   "id": "38610281",
   "metadata": {},
   "outputs": [],
   "source": [
    "from cryptography.hazmat.primitives import hashes\n",
    "from cryptography.hazmat.primitives.ciphers import Cipher, algorithms, modes\n",
    "import os\n",
    "import random \n",
    "import secrets"
   ]
  },
  {
   "cell_type": "markdown",
   "id": "410ce9e1",
   "metadata": {},
   "source": [
    "## Documentation "
   ]
  },
  {
   "cell_type": "markdown",
   "id": "74cec4fc",
   "metadata": {},
   "source": [
    "**Task 1:** If you are online you can easily find the documentation of the given method, function, etc. Google the documentation of ``random`` module - you should be able to find this [random module documentation](https://docs.python.org/3/library/random.html). Find method that will help you to generate list of 10 random values from range [0, 10]. It can be done using different functions, just choose one. "
   ]
  },
  {
   "cell_type": "markdown",
   "id": "ad79beba",
   "metadata": {},
   "source": [
    "**Task 2:** If you are offline (in case this happend during the exercise) you can use ``help`` which should be applied to given module, function, object etc. Just uncomment (press Ctrl + /) and execute (Run button or Ctrl + Enter) following cell and you see the documentation string (docstring) for ``random`` given module. "
   ]
  },
  {
   "cell_type": "code",
   "execution_count": 9,
   "id": "24b6e106",
   "metadata": {},
   "outputs": [],
   "source": [
    "# help(random)"
   ]
  },
  {
   "cell_type": "markdown",
   "id": "52137904",
   "metadata": {},
   "source": [
    "**Task 3:** Insert a cell below cell (use + button) below and use ``help`` to print out docstring of ``random.randint`` method. Find the documentation of ``random.randint`` on the internet and compare the both results."
   ]
  },
  {
   "cell_type": "markdown",
   "id": "402e4ed1",
   "metadata": {},
   "source": [
    "**Task 4:** Use selected function from **Task 1** and generate 10 random values from range [0,10] that should be stored in   ``rand_list`` variable. Use list slicing and print first 2 values and last 3 values. Print generated ``rand_list`` into the file with name rand_list.txt. "
   ]
  },
  {
   "cell_type": "code",
   "execution_count": 10,
   "id": "56a9d5aa",
   "metadata": {},
   "outputs": [],
   "source": [
    "# here implement your generation of 10 values and printing\n"
   ]
  },
  {
   "cell_type": "markdown",
   "id": "6b7f480c",
   "metadata": {},
   "source": [
    "## Operators"
   ]
  },
  {
   "cell_type": "markdown",
   "id": "3e1573aa",
   "metadata": {},
   "source": [
    "**Task 5:** Below two random integers ``a,b`` from [0, 65365] interval are generated. Replace ``+`` by modulo operator and ``999`` by appropriate number so integer in ``byte_a`` will represet random byte. Replace ``-`` by bitwise ``and`` operator and ``111`` by appropriate number so ``byte_b`` will represet random byte. Do not use conversions like ``byte()`` or similar!"
   ]
  },
  {
   "cell_type": "code",
   "execution_count": 11,
   "id": "ef929797",
   "metadata": {},
   "outputs": [],
   "source": [
    "a = random.randint(0, 65365)\n",
    "b = random.randint(0, 65365)\n",
    "byte_a = a + 999\n",
    "byte_b = b - 111 "
   ]
  },
  {
   "cell_type": "markdown",
   "id": "cc2a696a",
   "metadata": {},
   "source": [
    "**Task 6:** Use **for** loop and find inverse of 87 modulo 97 i.e. find $x$ such that $x*87 \\equiv 1 \\bmod 97.$ Then compute $x$ using ``pow`` -- replace 1,2,3 to obtain equality."
   ]
  },
  {
   "cell_type": "code",
   "execution_count": 12,
   "id": "6f041943",
   "metadata": {},
   "outputs": [
    {
     "data": {
      "text/plain": [
       "False"
      ]
     },
     "execution_count": 12,
     "metadata": {},
     "output_type": "execute_result"
    }
   ],
   "source": [
    "# here implement the solution\n",
    "x = None        \n",
    "\n",
    "pow(1, 2, 3) == x # replace "
   ]
  },
  {
   "cell_type": "markdown",
   "id": "47dbc4c1",
   "metadata": {},
   "source": [
    "**Task 7:** Implement the function ``rotate``that will take array of bytes and rotate it by ``shift`` bits to the right. Implement also helper function ``bits`` that returns list of bits in ``byte_array`` and use it to verify that ``rotate`` works correctly. If implemented correctly you will see two equalities (2xTrue)."
   ]
  },
  {
   "cell_type": "code",
   "execution_count": 13,
   "id": "3975d68a",
   "metadata": {},
   "outputs": [
    {
     "name": "stdout",
     "output_type": "stream",
     "text": [
      "False\n",
      "False\n"
     ]
    }
   ],
   "source": [
    "def bits(byte_array):\n",
    "    pass # remove pass and implement the required functionality \n",
    "\n",
    "def rotate_right(byte_array, shift):\n",
    "    pass # remove pass and implement the required functionality\n",
    "        \n",
    "print(bits(rotate_right(bytes([184, 169, 25]), shift=1)) == [0, 0, 0, 0, 1, 1, 1, 0, 1, 1, 0, 0, 1, 0, 1, 0, 1, 1, 0, 0, 1, 1, 0, 0])\n",
    "print(bits(rotate_right(bytes([140, 204, 46]), shift=1)) == [0, 0, 0, 1, 1, 0, 0, 0, 1, 0, 0, 1, 1, 0, 0, 1, 1, 0, 1, 1, 1, 0, 1, 0])"
   ]
  },
  {
   "cell_type": "markdown",
   "id": "90bda72d",
   "metadata": {},
   "source": [
    "**Task 8:** Implement (replace pass) the ``xor``function that will take two integers ``a,b`` and return their bitwise xor.  "
   ]
  },
  {
   "cell_type": "code",
   "execution_count": 14,
   "id": "4cbc3afd",
   "metadata": {},
   "outputs": [],
   "source": [
    "def xor(a, b):\n",
    "    pass # remove pass and implement the require functionality"
   ]
  },
  {
   "cell_type": "markdown",
   "id": "c8ea5a25",
   "metadata": {},
   "source": [
    "**Task 9:** Implement function that will take two arrays ``array1, array2`` of bytes and return their XOR (byte array that will consist of XOR-ed first bytes in ``array1, array2``, second, etc.). ``XOR`` function should use ``xor.`` "
   ]
  },
  {
   "cell_type": "code",
   "execution_count": 15,
   "id": "2ec032fd",
   "metadata": {},
   "outputs": [
    {
     "data": {
      "text/plain": [
       "b''"
      ]
     },
     "execution_count": 15,
     "metadata": {},
     "output_type": "execute_result"
    }
   ],
   "source": [
    "def XOR(array1, array2):\n",
    "    # here implement xor of two byte arrays \n",
    "    return bytes([])\n",
    "\n",
    "array1 = secrets.token_bytes(10)\n",
    "array2 = secrets.token_bytes(3)\n",
    "XOR(array1, array2)"
   ]
  },
  {
   "cell_type": "markdown",
   "id": "535a984e",
   "metadata": {},
   "source": [
    "## Encryption and classes"
   ]
  },
  {
   "cell_type": "markdown",
   "id": "678ee58c",
   "metadata": {},
   "source": [
    "**Task 10:** Use the documentation of ``hazmat`` package and try to understand what functions ``encrypt_ECB, encrypt_CTR``are doing. Some message was encrypted using ``encrypt_CTR`` and the result is stored in ``encrypted_msg``. Try to decrypt the message -- you will see a meaningful text. "
   ]
  },
  {
   "cell_type": "code",
   "execution_count": 21,
   "id": "721d0788",
   "metadata": {},
   "outputs": [
    {
     "name": "stdout",
     "output_type": "stream",
     "text": [
      "45\n",
      "b'h>\\xac\\xa8\\x98\\xe0zf\\x95\\x1c,\\xbbP\\xeaF(\\t\\x9b<\\xb5\\x9d\\xee\\x0cO\\xe7l\\x8e<\\xabWC\\x0e!\\x8d\\x89\\xee\\x89\\x11]\\x04B\\x17t9\\xc3'\n"
     ]
    }
   ],
   "source": [
    "import secrets\n",
    "\n",
    "def encrypt_ECB(key, msg):\n",
    "    cipher = Cipher(algorithms.AES(key), modes.ECB())\n",
    "    enc = cipher.encryptor()\n",
    "    ct = enc.update(msg) + enc.finalize()\n",
    "    return ct \n",
    "\n",
    "def encrypt_CTR(key, iv, msg):\n",
    "    cipher = Cipher(algorithms.AES(key), modes.CTR(iv))\n",
    "    enc = cipher.encryptor()\n",
    "    ct = enc.update(msg) + enc.finalize()\n",
    "    return ct \n",
    "\n",
    "key = bytes.fromhex('00'*16)\n",
    "iv = bytes.fromhex('ff'*16)\n",
    "msg = b'We are looking forward to teach you something'\n",
    "print(len(msg))\n",
    "\n",
    "# encrypted_msg = b'h>\\xac\\xa8\\x98\\xe0zf\\x95\\x1c,\\xbbP\\xeaF(\\t\\x9b<\\xb5\\x9d\\xee\\x0cO\\xe7l\\x8e<\\xabWC\\x0e!\\x8d\\x89\\xee\\x89\\x11]\\x04B\\x17t9\\xc3'\n",
    "plaintext = encrypted_msg # change this line - replace encrypted_msg appopriatelly\n",
    "print(plaintext)"
   ]
  },
  {
   "cell_type": "markdown",
   "id": "6efea7d7",
   "metadata": {},
   "source": [
    "**Task 11:** Encrypt and decrypt the plaintext from Task 10 using ``encrypt_ECB`` with the same key. Some problems will pop-up during encryption. Solve the issues and then decrypt the ciphertext to verigy that encryption and decyption worked. "
   ]
  },
  {
   "cell_type": "code",
   "execution_count": 22,
   "id": "d8bd3523",
   "metadata": {},
   "outputs": [],
   "source": [
    "# import functions for padding\n",
    "\n",
    "def decrypt_ECB(key, msg):\n",
    "    pass # add functionality for ECB decryption \n",
    "    \n",
    "\n",
    "# encrypt\n",
    "ciphertext = plaintext # change this line - replace plaintext appopriatelly\n",
    "# decrypt\n",
    "plaintext_2 = ciphertext # change this line - replace ciphertext appopriatelly"
   ]
  },
  {
   "cell_type": "markdown",
   "id": "650eed80",
   "metadata": {},
   "source": [
    "**Task 12:** Implement ``__init__`` and ``encrypt_msg`` so that both encrypted messages ``encrypted_msg1, encrypted_msg2`` will be equal.   "
   ]
  },
  {
   "cell_type": "code",
   "execution_count": 23,
   "id": "d3410c31",
   "metadata": {},
   "outputs": [
    {
     "data": {
      "text/plain": [
       "False"
      ]
     },
     "execution_count": 23,
     "metadata": {},
     "output_type": "execute_result"
    }
   ],
   "source": [
    "class CTR:\n",
    "    def __init__(self, key):\n",
    "        pass # remove pass and implement the require functionality\n",
    "    \n",
    "    def encrypt_msg(self, iv, msg_block):  \n",
    "        pass # remove pass and implement the require functionality\n",
    "    \n",
    "\n",
    "msg = secrets.token_bytes(16)\n",
    "key = secrets.token_bytes(16)\n",
    "iv = secrets.token_bytes(16)\n",
    "\n",
    "encryptor = CTR(key)\n",
    "encrypted_msg1 = encryptor.encrypt_msg(iv, msg)\n",
    "encrypted_msg2 = encrypt_CTR(key, iv, msg)\n",
    "\n",
    "encrypted_msg1 == encrypted_msg2"
   ]
  },
  {
   "cell_type": "code",
   "execution_count": null,
   "id": "8282350b",
   "metadata": {},
   "outputs": [],
   "source": []
  }
 ],
 "metadata": {
  "kernelspec": {
   "display_name": "Python 3 (ipykernel)",
   "language": "python",
   "name": "python3"
  },
  "language_info": {
   "codemirror_mode": {
    "name": "ipython",
    "version": 3
   },
   "file_extension": ".py",
   "mimetype": "text/x-python",
   "name": "python",
   "nbconvert_exporter": "python",
   "pygments_lexer": "ipython3",
   "version": "3.10.12"
  }
 },
 "nbformat": 4,
 "nbformat_minor": 5
}
