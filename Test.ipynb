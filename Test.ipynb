{
 "cells": [
  {
   "cell_type": "markdown",
   "id": "0b9405a1",
   "metadata": {},
   "source": [
    "## Rename the Jupyter notebook"
   ]
  },
  {
   "cell_type": "markdown",
   "id": "4a360990",
   "metadata": {},
   "source": [
    "Double-click on the name (**Test**) of the noteboook left upper corner and replace HW with your name (first name + surname) then press enter. After that save it using combination of keys = Ctrl + S. At the end and before you sent this jupyter notebook as the result of the testing to syso@mail.muni.cz save your work in the notebook again using Ctrl + S. "
   ]
  },
  {
   "cell_type": "markdown",
   "id": "effb0516",
   "metadata": {},
   "source": [
    "## Helper functions"
   ]
  },
  {
   "cell_type": "markdown",
   "id": "948936d0",
   "metadata": {},
   "source": [
    "Implement function ``extract_bits`` that will extract bits from the given integer ``value``. The bits which should be extracted are defined by ``lsb_bit`` (least significant bit), ``msb_bit`` (most significant bit). Least significant bit defined by ``lsb_bit`` should be extracted but bit on ``msb_bit`` position should not be extracted. Positions are counted from 0. Cell also include verification of the implementation - each comparison should be `True` for correct implementation of `extract_bits` function. The function should return the **integer** that consists of extracted bits. E.g. integer value 20 with binary representation ...010100, lsb_bit = 1, msb_bit = 3 will extract two bits (on positions 1, 2) i.e. bits 10 (010|10|0 - extracted bits between ||) are extracted. Hence 2 is returned as integer represented of extracted bits.\n",
    "\n",
    "*Tip: Bit operations can be useful (e.g., `>>`, `&`, `<<`).*"
   ]
  },
  {
   "cell_type": "code",
   "execution_count": 2,
   "id": "9db9cf00",
   "metadata": {},
   "outputs": [
    {
     "name": "stdout",
     "output_type": "stream",
     "text": [
      "False\n",
      "False\n",
      "False\n",
      "False\n",
      "False\n",
      "False\n"
     ]
    }
   ],
   "source": [
    "def extract_bits(value, lsb_bit, msb_bit):\n",
    "    return value # process value so function will return specified bits\n",
    "\n",
    "print(extract_bits(20, 1, 3) == 2)\n",
    "print(extract_bits(31, 1, 1) == 0)\n",
    "print(extract_bits(31, 0, 4) == 15)\n",
    "print(extract_bits(56, 2, 6) == 14)\n",
    "print(extract_bits(43, 0, 3) == 3)\n",
    "print(extract_bits(26, 2, 7) == 6)"
   ]
  },
  {
   "cell_type": "markdown",
   "id": "a6f13af3",
   "metadata": {},
   "source": [
    "## Non-cryptographic generator\n",
    "Your task is to implement LCG generator that will simulate Java's java.util.Random generator see [LCG](https://en.wikipedia.org/wiki/Linear_congruential_generator) for more details. For the purposes of this assignment, we will consider a variant with $a = 25214903917$, $c = 11$, and $m = 2^{48}$ with taking 16th up to 48th bit\n",
    "(exclusive) as an output (zero-based indexing, from the least significant bit to the most significant bit). Do not output bits of the seed. Replace `pass` by one or two lines (or more if needed) so that the comparison will return `True`."
   ]
  },
  {
   "cell_type": "code",
   "execution_count": 3,
   "id": "716c06fa",
   "metadata": {},
   "outputs": [
    {
     "data": {
      "text/plain": [
       "False"
      ]
     },
     "execution_count": 3,
     "metadata": {},
     "output_type": "execute_result"
    }
   ],
   "source": [
    "a = 25214903917 \n",
    "c = 11\n",
    "m = 2**48\n",
    "lsb_bit = 16\n",
    "msb_bit = 48 \n",
    "\n",
    "    \n",
    "class LCGState:\n",
    "    def __init__(self, seed): #initialize using the seed\n",
    "        pass # replace pass by one or more lines\n",
    "\n",
    "    def rnd(self): # update the state, and return generated value\n",
    "        pass # replace pass by one or more lines\n",
    "\n",
    "def generate_values(seed, length): # define LCG generator, initilize it using seed and return several (length) random values\n",
    "    pass # replace pass by one or more lines\n",
    "\n",
    "generate_values(seed=0, length=3) == [0, 4232237, 178803790]"
   ]
  },
  {
   "cell_type": "markdown",
   "id": "e0fb5949",
   "metadata": {},
   "source": [
    "## Number theoretic designs\n",
    "\n",
    "A possible approach to the design of cryptographically secure pseudorandom number generators (CSPRNG) is based on hard number-theoretic problems. One of the CSPRNGs based on the problem of factorization is called Blum-Blum-Shub (BBS). Your second task is to implement this generator. The internal state is updated in each iteration as follows:  $$x_{n+1}=x_{n}^{2}\\bmod M.$$ In each iteration only one least significant bit is generated. But the generator should be able to generate also random byte -- concatenate 8 generated bits to byte that is returned by ``next_byte`` method. The concatenation should result in byte with most significant bit of the byte that was generated first. \n",
    "\n",
    "*Note: When the following sequence of bits is generated `1, 0, 1, 1, 0, 1, 0, 0` (the first output bit left), the output byte should be integer 180 that corresponds to binary`10110100`.*"
   ]
  },
  {
   "cell_type": "code",
   "execution_count": 5,
   "id": "57a0063a",
   "metadata": {},
   "outputs": [],
   "source": [
    "# 512-bit primes\n",
    "p = 6070186730910479310918815191840163587634827602441835781625018423574917227762047548183164111199826067360243865009867508398917120094583722287922451025975767\n",
    "q = 5340312989465584099871463955436845940135320986603689391470576059268871866982316459236849963576848007087188105130926608734906024678241674028940333669236459\n",
    "\n",
    "M = p * q\n",
    "class BBS:\n",
    "    def __init__(self, seed): #initialize using the seed\n",
    "        pass # replace pass by one or more lines\n",
    "    \n",
    "    def next_bit(self): # update the state, and return bit\n",
    "        pass # replace pass by one or more lines\n",
    "\n",
    "    def next_byte(self) -> int: # generate 8 bits, concatenate them together and return byte\n",
    "        pass # replace pass by one or more lines \n",
    "def generate_bytes(seed, length):  # define the BBS generator, initilize it using seed and return several (length) random bytes\n",
    "    pass  # replace pass by one or more lines\n",
    "\n",
    "generate_bytes(seed=2, length= 10).hex()"
   ]
  }
 ],
 "metadata": {
  "kernelspec": {
   "display_name": "Python 3 (ipykernel)",
   "language": "python",
   "name": "python3"
  },
  "language_info": {
   "codemirror_mode": {
    "name": "ipython",
    "version": 3
   },
   "file_extension": ".py",
   "mimetype": "text/x-python",
   "name": "python",
   "nbconvert_exporter": "python",
   "pygments_lexer": "ipython3",
   "version": "3.10.12"
  }
 },
 "nbformat": 4,
 "nbformat_minor": 5
}
